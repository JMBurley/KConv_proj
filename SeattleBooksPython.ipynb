{
 "cells": [
  {
   "cell_type": "markdown",
   "metadata": {},
   "source": [
    "### Pre-load modules"
   ]
  },
  {
   "cell_type": "code",
   "execution_count": 1,
   "metadata": {},
   "outputs": [],
   "source": [
    "############# INITIALISING #############\n",
    "##### Plotting\n",
    "import matplotlib\n",
    "%matplotlib inline\n",
    "matplotlib.rcParams['figure.dpi'] = 100\n",
    "matplotlib.rcParams['lines.linewidth'] = 2\n",
    "matplotlib.rcParams['font.size'] = 12\n",
    "#### General modules\n",
    "import numpy as np # It's numpy. Duh.\n",
    "import time # for time.time() timing methods\n",
    "from pprint import pprint # nice output\n",
    "import pandas as pd # Our 'interface with R dataframes' tool\n",
    "from pandas.plotting import autocorrelation_plot # Autocorr plot\n",
    "import matplotlib.pyplot as plt # plotting\n",
    "from scipy.optimize import curve_fit # to fit the GK soln\n",
    "\n",
    "#### Interactivity\n",
    "from ipywidgets import interact, interactive, fixed, interact_manual\n",
    "import ipywidgets as widgets\n",
    "\n",
    "\n",
    "#### Big bag of ML\n",
    "from sklearn import base\n",
    "from sklearn import pipeline\n",
    "from sklearn.linear_model import Ridge\n",
    "from sklearn.pipeline import FeatureUnion\n",
    "from sklearn.model_selection import train_test_split\n",
    "from sklearn.model_selection import TimeSeriesSplit\n",
    "from sklearn import svm, datasets\n",
    "from sklearn.model_selection import GridSearchCV\n",
    "from sklearn.model_selection import cross_val_score\n",
    "from sklearn.model_selection import RandomizedSearchCV\n"
   ]
  },
  {
   "cell_type": "markdown",
   "metadata": {},
   "source": [
    ".\n",
    ".\n",
    "\n",
    ".\n",
    ".\n",
    "\n",
    ".\n",
    ".\n",
    "#  JONATHAN BURLEY\n",
    "## DATA INCUBATOR CAPSTONE\n",
    ".\n",
    ".\n",
    "\n",
    ".\n",
    ".\n",
    "\n",
    ".\n",
    "."
   ]
  },
  {
   "cell_type": "markdown",
   "metadata": {},
   "source": [
    "**Introduction**\n",
    "\n",
    "This Capstone project implements a novel method of predicting an output timeseries from an input timeseries. The novel method accurately predicts outputs that are very poorly correlated to the input by making use of the limited number of ways that sensibly interacting systems can affect one another.  I call this method '_Kernel Convolution_': using a kernel function to map inputs to outputs according to the laws constraining the Kernel's shape. \n",
    "\n",
    "The standard method for dealing with paried input:output timeseries in machine learning is a lagged linear model. Such models take the input timeseries and repeatedly shift it in time (thus creating a set of lagged timeseries), and then try to find a way to add all these lagged timeseries together to best approximate the output timeseries.\n",
    "\n",
    "The lagged linear method sounds like a lot of work (because it is), however the method is prevented from becoming untenable because its mathematically intense step of \"find the best way to add everything\" is formulated as a matrix linear algebra problem and can make use of the well-known computational optimisations.  However, matrix algebra does not fix the fact that exploring all possible options is a recipe for overfitting, that it wastes CPU time to explore a large space instead of a small one, and wastes memory storing many lagged repetitions of a timeseries.\n",
    "\n",
    "Why did I tell you all that?  Well, frank description of the lagged linear method highlights the ways that we can make efficiencies. We don't want to consider every solution, we want to consider sensible solutions. By limiting ourselves to sensible solutions we save CPU, memory and are entirely resilient to overfitting."
   ]
  },
  {
   "cell_type": "markdown",
   "metadata": {},
   "source": [
    "Below, we explore these a test dataset to illustrate these points.\n",
    "\n",
    "Our test data is:\n",
    "\n",
    "**INPUT:** The Google search interest in a particular book [in Washington State]\n",
    "\n",
    "**OUTPUT:** The library rentals for a particular book [from the Seattle public library system]\n",
    "\n",
    "Sounds like data that should be very simple to match, but we will see a few complications and how very bad a lagged linear method is for understanding or predicting the behaviour of the system."
   ]
  },
  {
   "cell_type": "markdown",
   "metadata": {},
   "source": [
    "## DEMONSTRATION AREA"
   ]
  },
  {
   "cell_type": "markdown",
   "metadata": {},
   "source": [
    "To start, let's plot the data.  Below is an example input (blue) and the output we would like to predict with this input (green).  These colours are maintained throughout this workbook."
   ]
  },
  {
   "cell_type": "code",
   "execution_count": 9,
   "metadata": {
    "scrolled": false
   },
   "outputs": [
    {
     "data": {
      "image/png": "[encoded data removed]",
      "text/plain": [
       "<Figure size 432x288 with 2 Axes>"
      ]
     },
     "metadata": {},
     "output_type": "display_data"
    },
    {
     "data": {
      "text/plain": [
       "<Figure size 432x288 with 0 Axes>"
      ]
     },
     "metadata": {},
     "output_type": "display_data"
    }
   ],
   "source": [
    "############ SHOW THE INPUT & OUTPUT TIMESERIES ##############\n",
    "df_G, df_S, OptDict = Generate_DataFrames('WWZ',12)\n",
    "plot_df(df_G,df_S,OptDict)\n",
    "\n",
    "# Let's plot a few years of data\n",
    "f = plt.figure()\n",
    "# ax = autocorrelation_plot(df_S.Checkouts)"
   ]
  },
  {
   "cell_type": "markdown",
   "metadata": {},
   "source": [
    "**Figure 1** _Top panel (blue) is the monthly Search Volume for the book over several years, indexed to max=100.  Bottom panel (green) is the monthly Rentals for the book over the same time period._\n",
    "\n",
    "Important features to note are the sharp spike in interest, coinciding with a large jump in book sales, and the continuing fat tail of sales after the interest spike (during a period where there is little search interest). Thus there is a strong causative relationship, but poor correlation, between our input and output."
   ]
  },
  {
   "cell_type": "markdown",
   "metadata": {},
   "source": [
    "Next, we apply the lagged linear model to this dataset:"
   ]
  },
  {
   "cell_type": "code",
   "execution_count": 7,
   "metadata": {},
   "outputs": [
    {
     "data": {
      "application/vnd.jupyter.widget-view+json": {
       "model_id": "5df766e6405346d8b9c9a6545bb8f2a6",
       "version_major": 2,
       "version_minor": 0
      },
      "text/plain": [
       "interactive(children=(IntSlider(value=6, description='n_months', max=30, min=1), Dropdown(description='F_str',…"
      ]
     },
     "metadata": {},
     "output_type": "display_data"
    },
    {
     "data": {
      "application/vnd.jupyter.widget-view+json": {
       "model_id": "621919bc832045d8a7d812f1047971e2",
       "version_major": 2,
       "version_minor": 0
      },
      "text/plain": [
       "interactive(children=(IntSlider(value=14, description='n_months', max=30, min=1), Dropdown(description='F_str'…"
      ]
     },
     "metadata": {},
     "output_type": "display_data"
    }
   ],
   "source": [
    "######### INTERACTIVE ML WINDOW ##########\n",
    "def interactML_Wrapper(n_months,F_str):\n",
    "    df_G, df_S, OptDict     = Generate_DataFrames(F_str,n_months)\n",
    "    Lag_Lin_Model,y_predict = Do_LagLinModel(df_G,df_S,OptDict)\n",
    "    # plot\n",
    "    plot_LagLinModel_2panel(df_G,df_S,y_predict,OptDict)\n",
    "    return\n",
    "    \n",
    "interact(interactML_Wrapper, n_months=widgets.IntSlider(min=1,max=30,step=1,value=6),\n",
    "         F_str=['WWZ','HP','HG','NotW','DoF','1984','Bible','HG03']);\n",
    "interact(interactML_Wrapper, n_months=widgets.IntSlider(min=1,max=30,step=1,value=14),\n",
    "         F_str=['WWZ','HP','HG','NotW','DoF','1984','Bible','HG03']);"
   ]
  },
  {
   "cell_type": "markdown",
   "metadata": {},
   "source": [
    "**Figures 2,3** _Lagged Linear machine learning model (using parameters set in options and listed in plot title).  Model is applied to the blue data and generates the dashed blue line overlaid over the green data in the lower panel_\n",
    "\n",
    "Figs 2,3 are illustrative of the general result from the lagged linear model: an overfit of the data within the window period, and a poor fit outside of it.\n",
    "\n",
    "Before we judge lagged linear models, let us see what the kernel convolution method can do:"
   ]
  },
  {
   "cell_type": "code",
   "execution_count": 95,
   "metadata": {},
   "outputs": [
    {
     "data": {
      "image/png": "[encoded data removed]",
      "text/plain": [
       "<Figure size 432x288 with 2 Axes>"
      ]
     },
     "metadata": {},
     "output_type": "display_data"
    }
   ],
   "source": [
    "############ DIRECT FITTING OF MY MODEL ##############\n",
    "df_G, df_S, OptDict = Generate_DataFrames('HP',0)\n",
    "JB_params = Do_JBmodel(df_G,df_S)\n",
    "plot_JBmodel(df_G,df_S,JB_params)"
   ]
  },
  {
   "cell_type": "markdown",
   "metadata": {},
   "source": [
    "**Figure 4** _Kernel Convolution Model.  Model is applied to the blue data and generates the dashed blue line overlaid over the green data in the lower panel_\n",
    "\n",
    "Fig 4 shows a smooth fit that tracks the output data with reasonable consistency throughout the time period, and makes a sensible future prediction of sales.\n",
    "\n",
    "Full exploration of the available data shows this to be a consistent trend. Lagged linear models have regions of overfit interspaced with poor fits, and their forecasts are poor.  Kernel Convolution gives a relatively smooth fit of constant accuracy.\n",
    "\n",
    "Having covered accuracy, let's look at the speed of these methods:"
   ]
  },
  {
   "cell_type": "code",
   "execution_count": 26,
   "metadata": {},
   "outputs": [],
   "source": [
    "######### DO TIMING TESTS ##########\n",
    "df_G, df_S, OptDict = Generate_DataFrames('HG03',0)"
   ]
  },
  {
   "cell_type": "code",
   "execution_count": 29,
   "metadata": {},
   "outputs": [
    {
     "name": "stdout",
     "output_type": "stream",
     "text": [
      "20.9 ms ± 3.23 ms per loop (mean ± std. dev. of 7 runs, 3 loops each)\n"
     ]
    }
   ],
   "source": [
    "%%timeit -n3\n",
    "TimingJB_Wrapper(df_G,df_S)"
   ]
  },
  {
   "cell_type": "code",
   "execution_count": 30,
   "metadata": {},
   "outputs": [
    {
     "name": "stdout",
     "output_type": "stream",
     "text": [
      "297 ms ± 51.3 ms per loop (mean ± std. dev. of 7 runs, 3 loops each)\n"
     ]
    }
   ],
   "source": [
    "%%timeit -n3\n",
    "TimingML_Wrapper(50,'HG03')"
   ]
  },
  {
   "cell_type": "markdown",
   "metadata": {},
   "source": [
    "For the current example, Kernel convolution takes about 20~ms and lagged linear models take about 280~ms. A huge speed advantage for Kernel convolution."
   ]
  },
  {
   "cell_type": "code",
   "execution_count": null,
   "metadata": {},
   "outputs": [],
   "source": [
    "######### FIXED ML WINDOWS ##########\n",
    "#### Do an ML model run & plot\n",
    "# Setup\n",
    "n_months_window = 12\n",
    "df_G, df_S, OptDict     = Generate_DataFrames('WWZ',n_months_window)\n",
    "Lag_Lin_Model,y_predict = Do_LagLinModel(df_G,df_S,OptDict)\n",
    "# plot\n",
    "plot_LagLinModel_2panel(df_G,df_S,y_predict,OptDict)\n",
    "\n",
    "\n",
    "# Setup\n",
    "n_months_window = 18\n",
    "df_G, df_S, OptDict     = Generate_DataFrames('WWZ',n_months_window)\n",
    "Lag_Lin_Model,y_predict = Do_LagLinModel(df_G,df_S,OptDict)\n",
    "# plot\n",
    "plot_LagLinModel_2panel(df_G,df_S,y_predict,OptDict)\n"
   ]
  },
  {
   "cell_type": "code",
   "execution_count": null,
   "metadata": {},
   "outputs": [],
   "source": [
    "#### Show kernel\n",
    "df_G, df_S, OptDict     = Generate_DataFrames('HG',n_months_window)\n",
    "Lag_Lin_Model,y_predict = Do_LagLinModel(df_G,df_S,OptDict)\n",
    "plot_LagLinKernel(Lag_Lin_Model, OptDict)\n",
    "\n",
    "GK = JB_Kernel(df_G.SearchVol,*JB_params)\n",
    "plt.figure()\n",
    "plt.plot(df_G.Month[1:], GK)"
   ]
  },
  {
   "cell_type": "code",
   "execution_count": 106,
   "metadata": {},
   "outputs": [
    {
     "name": "stdout",
     "output_type": "stream",
     "text": [
      "GUIDE: Blue shows actual book rental numbers. Other colors show the forecast from Google search data applied in a forward-chain testing routine, with GREEN being the lagged linear model and RED the kernel convolution model\n",
      "INDICES -- TRAIN: 0:31 TEST: 32:59\n",
      "   ML SCORE: -6.661\n",
      "   KC SCORE: 0.017\n"
     ]
    },
    {
     "data": {
      "image/png": "[encoded data removed]",
      "text/plain": [
       "<Figure size 432x288 with 1 Axes>"
      ]
     },
     "metadata": {},
     "output_type": "display_data"
    },
    {
     "name": "stdout",
     "output_type": "stream",
     "text": [
      "********************\n",
      "INDICES -- TRAIN: 0:59 TEST: 60:87\n",
      "   ML SCORE: -0.007\n",
      "   KC SCORE: 0.148\n"
     ]
    },
    {
     "data": {
      "image/png": "[encoded data removed]",
      "text/plain": [
       "<Figure size 432x288 with 1 Axes>"
      ]
     },
     "metadata": {},
     "output_type": "display_data"
    },
    {
     "name": "stdout",
     "output_type": "stream",
     "text": [
      "********************\n",
      "INDICES -- TRAIN: 0:87 TEST: 88:115\n",
      "   ML SCORE: -10.445\n",
      "   KC SCORE: -4.682\n"
     ]
    },
    {
     "data": {
      "image/png": "[encoded data removed]",
      "text/plain": [
       "<Figure size 432x288 with 1 Axes>"
      ]
     },
     "metadata": {},
     "output_type": "display_data"
    },
    {
     "name": "stdout",
     "output_type": "stream",
     "text": [
      "********************\n",
      "INDICES -- TRAIN: 0:115 TEST: 116:143\n",
      "   ML SCORE: -1.202\n",
      "   KC SCORE: 0.469\n"
     ]
    },
    {
     "data": {
      "image/png": "[encoded data removed]",
      "text/plain": [
       "<Figure size 432x288 with 1 Axes>"
      ]
     },
     "metadata": {},
     "output_type": "display_data"
    },
    {
     "name": "stdout",
     "output_type": "stream",
     "text": [
      "********************\n"
     ]
    }
   ],
   "source": [
    "############ EXAMPLE OF A TIME-SERIES FITTING METHOD ############\n",
    "# from sklearn.model_selection import TimeSeriesSplit\n",
    "from matplotlib import pyplot\n",
    "from sklearn.metrics import r2_score\n",
    "\n",
    "### Define data\n",
    "# inits\n",
    "n_month_window = 12\n",
    "Book_string    = 'HP' \n",
    "N_SPLIT = 4\n",
    "# generator function\n",
    "df_G, df_S, OptDict = Generate_DataFrames(Book_string,n_month_window)\n",
    "\n",
    "### Extract the X,y in classic ML parlence\n",
    "X = df_G.loc[:, df_G.columns != 'Month']\n",
    "y = df_S.Checkouts\n",
    "dates = df_S.Month\n",
    "tscv = TimeSeriesSplit(n_splits=N_SPLIT)\n",
    "\n",
    "### Loop across the forward chain\n",
    "# inits for plotting\n",
    "pyplot.figure()\n",
    "index = 1\n",
    "# loop\n",
    "print(f'GUIDE: Blue shows actual book rental numbers. Other colors show the forecast from Google search data applied in a forward-chain testing routine, with GREEN being the lagged linear model and RED the kernel convolution model')\n",
    "for train_index, test_index in tscv.split(X):\n",
    "    ## Cuts\n",
    "    print(f'INDICES -- TRAIN: {min(train_index)}:{max(train_index)} TEST: {min(test_index)}:{max(test_index)}')\n",
    "    X_train, X_test = X.iloc[train_index,:], X.iloc[test_index,:]\n",
    "    y_train, y_test = y[train_index], y[test_index]\n",
    "    \n",
    "    ## ML MODEL -- fit and validation\n",
    "    Lag_Lin_Model = Train_LagLinModel(X_train,y_train)\n",
    "    y_preds       = Lag_Lin_Model.predict(X_test)\n",
    "    print(f'   ML SCORE: {Lag_Lin_Model.score(X_test,y_test):.3f}')\n",
    "    \n",
    "    ## JB model fit and prediction\n",
    "    JB_y_preds = ForwardChain_JBModel(X,y,train_index,test_index)\n",
    "    print(f'   KC SCORE: {r2_score(y_test, JB_y_preds):.3f}')\n",
    "    \n",
    "    ## plot?\n",
    "    pyplot.subplot(100*N_SPLIT+10 + index)\n",
    "    pyplot.plot(dates[train_index], y_train, 'b', dates[test_index],y_test, 'b',\n",
    "                dates[test_index],y_preds, 'g',dates[test_index],JB_y_preds,'r')\n",
    "#     pyplot.plot([None for i in y_train] + [x for x in y_test])\n",
    "    pyplot.show()\n",
    "    print('********************')\n",
    "    index += 1\n",
    "    \n",
    "\n",
    "\n"
   ]
  },
  {
   "cell_type": "code",
   "execution_count": null,
   "metadata": {},
   "outputs": [],
   "source": []
  },
  {
   "cell_type": "markdown",
   "metadata": {},
   "source": [
    "## FUNCTION STORAGE"
   ]
  },
  {
   "cell_type": "markdown",
   "metadata": {},
   "source": [
    "### Below are the function definitions that can be called for simple interactive plotting"
   ]
  },
  {
   "cell_type": "markdown",
   "metadata": {},
   "source": [
    "###### 1) Gets everything needed for analysis, setting up dataframes compatible with my model and the ML method"
   ]
  },
  {
   "cell_type": "code",
   "execution_count": 2,
   "metadata": {},
   "outputs": [],
   "source": [
    "##### DEFINE THE IMPORT DATASET\n",
    "MyOption = 'HG'\n",
    "\n",
    "def Generate_OptionsDict(MyOption,n_months_window):\n",
    "    '''#### Depending on item chosen, setup a dictionary listing the appropriate files and filter.\n",
    "    INPUT:  MyOption = string reference to a particular book in the test dataset eg. 'WWZ'\n",
    "            n_months_window = max number of months to offset the search data timeseries by eg. 12 means add twelve lagged datasets from 1-to-12 months of offset\n",
    "            \n",
    "    OUTPUT: OptDict = Dictionary containing the relevant options and filters to understand/generate the two dataframes we generate for the requested book.\n",
    "    '''\n",
    "    \n",
    "    OptDict = dict()\n",
    "    OptDict['n_month_window'] = n_months_window\n",
    "    OptDict['Search_file'] = './DATA/SeattleSearch_'+MyOption+'.csv'\n",
    "    OptDict['Books_file']  = './DATA/Checkouts_'+MyOption+'.csv'\n",
    "    if MyOption is 'WWZ':\n",
    "        ## WWZ\n",
    "        OptDict['Filter_Str']  = \"World War Z\"\n",
    "    elif MyOption is 'HG':\n",
    "        ## HUNGER GAMES\n",
    "        OptDict['Filter_Str']  = \"Hunger Games\"\n",
    "    elif MyOption is 'NotW':\n",
    "        ## Name of the Wind\n",
    "        OptDict['Filter_Str']  = \"Name of the Wind\"\n",
    "    elif MyOption is 'DoF':\n",
    "        ## In defense of Food\n",
    "        OptDict['Filter_Str']  = \"In Defense of Food\"\n",
    "    elif MyOption is 'Bible':\n",
    "        ## In defense of Food\n",
    "        OptDict['Filter_Str']  = \"Bible\"\n",
    "    elif MyOption is '1984':\n",
    "        ## In defense of Food\n",
    "        OptDict['Filter_Str']  = \"Nineteen eighty-four\"\n",
    "    elif MyOption is 'HP':\n",
    "        ## In defense of Food\n",
    "        OptDict['Filter_Str']  = \"Harry Potter\"\n",
    "    elif MyOption is 'HG03':\n",
    "        ## HUNGER GAMES extended\n",
    "        OptDict['Filter_Str']  = \"Hunger Games\"\n",
    "    return OptDict\n",
    "\n",
    "def Generate_DataFrames(MyOption,n_months_window):\n",
    "    '''#### Depending on item chosen, generate dataframes and dictionary of model options.\n",
    "    INPUT:  MyOption = string reference to a particular book in the test dataset eg. 'WWZ'\n",
    "            n_months_window = max number of months to offset the search data timeseries by eg. 12 means add twelve lagged datasets from 1-to-12 months of offset\n",
    "            \n",
    "    OUTPUT: df_G, df_S = Panda dataframes containing, respectively, the Google-search-volume and the Seattle-rental-data.\n",
    "            OptDict    = Dictionary containing the relevant options and filters to understand these two dataframes\n",
    "    '''\n",
    "    #### Depending on item chosen, setup a dictionary listing the appropriate files and filter\n",
    "    OptDict = Generate_OptionsDict(MyOption,n_months_window)\n",
    "    # for legibility, write optDict to variables for use inside this function\n",
    "    Search_file = OptDict['Search_file'] \n",
    "    Books_file  = OptDict['Books_file']\n",
    "    Filter_Str  = OptDict['Filter_Str']\n",
    "\n",
    "    \n",
    "    ##### Import SEARCH data eg. WWZ #####\n",
    "    ## Google trends\n",
    "    df_G = pd.read_csv(Search_file)\n",
    "    df_G.Month = pd.to_datetime(df_G['Month'], format='%Y-%m')\n",
    "\n",
    "    ##### Insert Lagged timeseries into the dataframe -- Needed to the ML reference Soln. Not needed for JB Model.\n",
    "    for i in range(1,n_months_window+1,1):\n",
    "        exec(\"df_G['SV_\"+str(i)+ \"']=df_G['SearchVol'].shift(\"+str(i)+\")\")\n",
    "    # convert NaN from lagging to zero (ML freaks out on NaN)\n",
    "    df_G = df_G.fillna(0);\n",
    "\n",
    "\n",
    "\n",
    "    ##### Import Seattle library data #####\n",
    "    ##### LOAD\n",
    "    df2 = pd.read_csv(Books_file,encoding = \"ISO-8859-1\") #fancy encoding to ensure we can read all text\n",
    "#     df2.head()\n",
    "\n",
    "    ##### CLEAN\n",
    "    #### Manipulate & clean\n",
    "    #** filter to useful types only\n",
    "    df2 = df2[df2['MaterialType'].isin(['BOOK','EBOOK','AUDIOBOOK'])]\n",
    "    #** Filter by 'title contains', correcting alternate caps\n",
    "    df2 = df2[df2['Title'].str.contains(Filter_Str, case=False)]\n",
    "    #** force numeric\n",
    "    # col_list = ['CheckoutMonth','CheckoutYear','Checkouts']\n",
    "    col_list = ['Checkouts']\n",
    "    df2[col_list] = df2[col_list].apply(pd.to_numeric)\n",
    "    # Create year-month and convert into suitable date object\n",
    "    df2['YearMon'] = df2['CheckoutYear'].astype(str) +'-'+ df2['CheckoutMonth'].astype(str)\n",
    "    df2.YearMon    = pd.to_datetime(df2['YearMon'], format='%Y-%m')\n",
    "\n",
    "    ##### MODIFY -- cache by total checkouts per month\n",
    "    # ## Option 1: creat col of uniques and then do sapply-like operations (lambdas perhaps?)\n",
    "    # dfa = pd.DataFrame(df2.YearMon.unique())\n",
    "    # df.apply(lambda x: x['a'] in x['b'], axis=1)\n",
    "    ## Option 2: use a groupby\n",
    "    df_S = pd.DataFrame(df2.groupby(['YearMon'])['Checkouts'].sum())\n",
    "    df_S['Month'] = pd.to_datetime(df_S.index.values, format='%Y-%m')\n",
    "    df_S.head()\n",
    "    \n",
    "    ### clean variables\n",
    "    del df2\n",
    "    del Search_file,Books_file,Filter_Str,n_months_window\n",
    "    \n",
    "    return df_G, df_S, OptDict\n",
    "\n",
    "\n",
    "def plot_df(df_G,df_S,OptDict):\n",
    "    \n",
    "    ############ SHOW THE INPUT & OUTPUT TIMESERIES ##############\n",
    "#     plt.figure(1)\n",
    "#     plt.subplot(211)\n",
    "    f, (ax1, ax2) = plt.subplots(2, 1, sharex=True)\n",
    "    ax1.plot(df_G.Month, df_G.SearchVol, 'b',linewidth=2.0,label='hi!')\n",
    "    ax1.set(ylabel=\"Search Interest\\n (max=100)\")\n",
    "    ax1.set_title('Book: ' + OptDict['Filter_Str'])\n",
    "#     plt.subplot(212)\n",
    "    ax2.plot(df_G.Month,df_S.Checkouts,color='g',linewidth=2.0)\n",
    "    plt.xlabel(\"Year\")\n",
    "    plt.ylabel(\"# Sales\")\n",
    "    plt.show;"
   ]
  },
  {
   "cell_type": "markdown",
   "metadata": {},
   "source": [
    "###### 2) the Machine Learning Model applied to a particular dataset, and plots thereof."
   ]
  },
  {
   "cell_type": "code",
   "execution_count": 36,
   "metadata": {},
   "outputs": [],
   "source": [
    "def Do_LagLinModel(df_G,df_S,OptDict):\n",
    "    '''\n",
    "    Takes input dataframes df_G,df_S and then fits them with a lagged linear model.\n",
    "    Returns the model, and the y_prediction of that model.\n",
    "    '''\n",
    "    ### Set up pipeline for a lagged ML set\n",
    "    ### Initialise Data df.loc[:, df.columns != 'b']\n",
    "    X = df_G.loc[:, df_G.columns != 'Month']\n",
    "    y = df_S.Checkouts\n",
    "\n",
    "    #### Get best fit\n",
    "    Lag_Lin_Model = Train_LagLinModel(X,y)\n",
    "    y_predict     = Lag_Lin_Model.predict(X)\n",
    "    \n",
    "    return Lag_Lin_Model,y_predict\n",
    "\n",
    "def Train_LagLinModel(X,y):\n",
    "    '''\n",
    "    Takes X,y and then fits them with a lagged linear model.\n",
    "    Returns the model.\n",
    "    '''\n",
    "    #### Get best fit\n",
    "    Lag_Lin_Model = Ridge(alpha=201)\n",
    "    Lag_Lin_Model.fit(X,y)\n",
    "    \n",
    "    return Lag_Lin_Model\n",
    "\n",
    "\n",
    "\n",
    "def plot_LagLinModel_2panel(df_G,df_S,y_predict,OptDict):\n",
    "###### The sharex methods leads to a flickering when using ipy widgets.  do not use    \n",
    "#     plt.figure()\n",
    "#     f1, (ax1, ax2) = plt.subplots(2, 1, sharex=True)\n",
    "#     ax1.plot(df_G.Month, df_G.SearchVol, 'b',linewidth=2.0,label='hi!')\n",
    "#     ax1.set(ylabel=\"Search Interest\\n (max=100)\")\n",
    "#     ax1.set_title(OptDict['Filter_Str']+' | '+ str(OptDict['n_month_window'])+' month window')\n",
    "# #     plt.subplot(212)\n",
    "#     ax2.plot(df_G.Month,df_S.Checkouts,color='g',linewidth=2.0)\n",
    "#     plt.xlabel(\"Year\")\n",
    "#     plt.ylabel(\"# Sales\")\n",
    "#     plt.show;\n",
    "    \n",
    "    \n",
    "    plt.figure()\n",
    "    plt.subplot(211)\n",
    "    p1 = plt.plot(df_G.Month, df_G.SearchVol, 'b',linewidth=2.0,label='hi!')\n",
    "    plt.ylabel(\"Search Interest\\n (max=100)\")\n",
    "    plt.title(OptDict['Filter_Str']+' | '+ str(OptDict['n_month_window'])+' month window')\n",
    "    frame1 = plt.gca()\n",
    "    frame1.axes.xaxis.set_ticklabels([])\n",
    "\n",
    "    plt.subplot(212)\n",
    "    plt.plot(df_G.Month,y_predict,'b--',linewidth=2.0, label='hi!')\n",
    "    plt.plot(df_G.Month,df_S.Checkouts,color='g',linewidth=2.0);\n",
    "    plt.xlabel(\"Year\")\n",
    "    plt.ylabel(\"# Sales\")\n",
    "    plt.show;\n",
    "\n",
    "def plot_LagLinModel_1panel(df_G,df_S,y_predict,OptDict):\n",
    "    ### Big square plot\n",
    "    fig, axis1 = plt.subplots()\n",
    "    axis1.plot(df_G.Month,df_S.Checkouts,'g')\n",
    "    axis2 = axis1.twinx() \n",
    "    axis2.plot(df_G.Month,y_predict,'b--')\n",
    "    axis1.set_xlabel(\"Months\")\n",
    "    axis1.set_ylabel(\"# Checkouts\")\n",
    "    axis1.set_title(OptDict['Filter_Str'])\n",
    "    plt.show\n",
    "\n",
    "def plot_LagLinKernel(Lag_Lin_Model,OptDict):\n",
    "    plt.figure()\n",
    "    plt.plot(Lag_Lin_Model.coef_)\n",
    "    plt.xlabel(\"Months\")\n",
    "    plt.ylabel(\"Relative influence\")\n",
    "    plt.title('Kernel: '+OptDict['Filter_Str']+' | '+ str(OptDict['n_month_window'])+' month window')   "
   ]
  },
  {
   "cell_type": "markdown",
   "metadata": {},
   "source": [
    "###### 3) My model functions [used in combination with curve-fit]"
   ]
  },
  {
   "cell_type": "code",
   "execution_count": 4,
   "metadata": {},
   "outputs": [],
   "source": [
    "from SeattleBooks_KernelConvolutionFunctions import ConvDisc, JB_Kernel, JB_Model"
   ]
  },
  {
   "cell_type": "markdown",
   "metadata": {},
   "source": [
    "###### 4) The curve fit of my model, nicely packaged into a function\n"
   ]
  },
  {
   "cell_type": "code",
   "execution_count": 105,
   "metadata": {},
   "outputs": [],
   "source": [
    "############ DIRECT FITTING OF MY KERNEL ##############\n",
    "def Do_JBmodel(df_G,df_S):\n",
    "    '''Extract info from Dataframes and perform fit'''\n",
    "    ### Get Data\n",
    "    input_data        = df_G.SearchVol\n",
    "    outputData_2match = df_S.Checkouts\n",
    "\n",
    "    ## Do fit\n",
    "    JB_params = Fit_JBmodel(input_data, outputData_2match)\n",
    "    return JB_params\n",
    "\n",
    "def Fit_JBmodel(input_data, outputData_2match):\n",
    "    '''peform model fit on the input and output data'''\n",
    "    ## Do fit\n",
    "    JB_params, pcov = curve_fit(JB_Model, input_data, outputData_2match,\n",
    "                                bounds=((-np.inf, -np.inf, -np.inf, 1.0), (np.inf, 0, np.inf, 102.5)))\n",
    "    return JB_params\n",
    "\n",
    "def ForwardChain_JBModel (X,y,train_index,test_index):\n",
    "    test_train_index = np.concatenate((train_index,test_index))\n",
    "    SearchVol = X.iloc[test_train_index,0]\n",
    "    Books     = y[test_train_index]\n",
    "    JB_params = Fit_JBmodel(SearchVol, Books)\n",
    "    JB_y_preds= JB_Model(df_G.SearchVol.iloc[test_train_index], *JB_params)[test_index]\n",
    "    return JB_y_preds\n",
    "\n",
    "\n",
    "def plot_JBmodel(df_G,df_S,JB_params):\n",
    "    plt.figure(1)\n",
    "    plt.subplot(211)\n",
    "    p1 = plt.plot(df_G.Month, df_G.SearchVol, 'b',linewidth=2.0,label='hi!')\n",
    "    plt.ylabel(\"Search Interest\\n (max=100)\")\n",
    "\n",
    "    plt.subplot(212)\n",
    "    plt.plot(df_G.Month, JB_Model(df_G.SearchVol, *JB_params), 'b--',linewidth=2.0, label='hi!')\n",
    "    plt.plot(df_G.Month,df_S.Checkouts,color='g',linewidth=2.0);\n",
    "    plt.xlabel(\"Year\")\n",
    "    plt.ylabel(\"# Sales\")\n",
    "    plt.show;\n",
    "    \n",
    "\n",
    "def plot_JBkernel(df_G,JB_params):\n",
    "    ### Fetch Kernel\n",
    "    GK = JB_Kernel(df_G.SearchVol,*JB_params)\n",
    "    \n",
    "    ### Plot Kernel\n",
    "    secPerYr = np.pi\n",
    "    plt.figure()\n",
    "    plt.plot((df_G.Month[0:len(GK)] - df_G.Month[0]).dt.days,GK/max(GK) ,color='k',linewidth=2.0);\n",
    "    plt.xlabel(\"Days\")\n",
    "    plt.ylabel(\"Relative importance\")\n",
    "    plt.show;\n",
    "    "
   ]
  },
  {
   "cell_type": "markdown",
   "metadata": {},
   "source": [
    "###### 5) Wrappers to facilitate timing functions"
   ]
  },
  {
   "cell_type": "code",
   "execution_count": 6,
   "metadata": {},
   "outputs": [],
   "source": [
    "######## TIMING FUNCTIONS ##########\n",
    "def TimingJB_Wrapper(df_G,df_S):\n",
    "#     df_G, df_S, OptDict = Generate_DataFrames(F_str,0)\n",
    "    JB_params = Do_JBmodel(df_G,df_S)\n",
    "def TimingML_Wrapper(n_months,F_str):\n",
    "    df_G, df_S, OptDict     = Generate_DataFrames(F_str,n_months)\n",
    "    Lag_Lin_Model,y_predict = Do_LagLinModel(df_G,df_S,OptDict)"
   ]
  },
  {
   "cell_type": "markdown",
   "metadata": {},
   "source": [
    "## Ongoing production"
   ]
  },
  {
   "cell_type": "markdown",
   "metadata": {},
   "source": [
    ".\n",
    "\n",
    ".\n",
    "\n",
    ".\n",
    "\n",
    "."
   ]
  },
  {
   "cell_type": "markdown",
   "metadata": {},
   "source": [
    "### Current Check and plots"
   ]
  },
  {
   "cell_type": "code",
   "execution_count": 12,
   "metadata": {},
   "outputs": [
    {
     "name": "stdout",
     "output_type": "stream",
     "text": [
      "9\n",
      "9\n",
      "min(GK) = 0.10229394434736287\n",
      "max(GK)/10 = 0.5178294444160213\n"
     ]
    }
   ],
   "source": [
    "GK = JB_Kernel(df_G.SearchVol,*JB_params)\n",
    "i=10\n",
    "\n",
    "print(np.where(GK<= (max(GK)/i))[0][0])\n",
    "print(np.argmax(GK<= (max(GK)/i)))\n",
    "print(f'min(GK) = {min(GK)}')\n",
    "print(f'max(GK)/{i} = {(max(GK)/i)}')"
   ]
  },
  {
   "cell_type": "code",
   "execution_count": 31,
   "metadata": {},
   "outputs": [
    {
     "name": "stdout",
     "output_type": "stream",
     "text": [
      "5.178294444160213 -1.0250060375426584 78.4799479482064 51.75\n"
     ]
    },
    {
     "data": {
      "image/png": "[encoded data removed]",
      "text/plain": [
       "<Figure size 432x288 with 2 Axes>"
      ]
     },
     "metadata": {},
     "output_type": "display_data"
    }
   ],
   "source": [
    "############ DIRECT FITTING OF MY MODEL ##############\n",
    "df_G, df_S, OptDict = Generate_DataFrames('HG',0)\n",
    "JB_params = Do_JBmodel(df_G,df_S)\n",
    "plot_JBmodel(df_G,df_S,JB_params)\n",
    "print(*JB_params)\n",
    "# plot_JBkernel(df_G,JB_params)"
   ]
  },
  {
   "cell_type": "code",
   "execution_count": 10,
   "metadata": {},
   "outputs": [
    {
     "data": {
      "text/plain": [
       "0      0\n",
       "1     30\n",
       "2     61\n",
       "3     91\n",
       "4    122\n",
       "Name: Month, dtype: int64"
      ]
     },
     "execution_count": 10,
     "metadata": {},
     "output_type": "execute_result"
    }
   ],
   "source": [
    "(df_G.Month - df_G.Month[0]).dt.days.head(5)"
   ]
  },
  {
   "cell_type": "markdown",
   "metadata": {},
   "source": [
    "### TESTING FEATURES (Old)"
   ]
  },
  {
   "cell_type": "code",
   "execution_count": 6,
   "metadata": {},
   "outputs": [],
   "source": [
    "# ######## np convolve test \n",
    "# # (conclusion: np.convolve(a, b, mode='full') gives us the desired moving window behaviour where b is the kernel)\n",
    "# a= np.array([0.,1.,2.,3.,4.,20.,4.,3.,2.,1.,0.])\n",
    "# # a= np.ones(8)\n",
    "# b= np.ones(4)\n",
    "# c = np.true_divide(np.array([4.,3.,2.,1.]),4)\n",
    "# b=c\n",
    "# nx = len(a)\n",
    "# nk = len(b)\n",
    "# Y1 = np.zeros(nk+nx)\n",
    "\n",
    "# print(a)\n",
    "# print(b)\n",
    "# Y0 = np.convolve(a, b, mode='full')\n",
    "# Y0 = Y0[0:len(Y0)-nk+1]\n",
    "# print(Y0)\n",
    "\n",
    "# for i in range(len(a)):\n",
    "#     Y1[i:(i+nk)]+= b*a[i]\n",
    "# # Trim\n",
    "# idx = np.argmax(Y1<= (max(Y1)/10000)) # cut at threshold.  if no match, returns 0\n",
    "# print(f'idx: {idx}')\n",
    "# if idx == 0:\n",
    "#     idx = nx # same length as input    \n",
    "# print(f'idx: {idx}')\n",
    "# Y1 = Y1[0:(nx)]\n",
    "# print(Y1)"
   ]
  },
  {
   "cell_type": "code",
   "execution_count": null,
   "metadata": {},
   "outputs": [],
   "source": [
    "# ###### AUTOCORRELATION could bring out some important features\n",
    "# ### source: https://201809.tditrain.com/user/jmaburley@gmail.com/notebooks/datacourse/viz/VZ_Exploratory_Visualization.ipynb\n",
    "# from pandas.plotting import autocorrelation_plot, lag_plot\n",
    "# # autocorrelation  example\n",
    "# autocorrelation_plot(goog_open)\n",
    "# matplotlib.pyplot.xlabel('Lag (days)')"
   ]
  },
  {
   "cell_type": "code",
   "execution_count": null,
   "metadata": {},
   "outputs": [],
   "source": [
    "# ################ Training using GridSearchCV ################\n",
    "# ### Set the parameters by cross-validation\n",
    "# ## random split into test & training\n",
    "# # X_train, X_test, y_train, y_test = train_test_split(X, y, test_size=0.33, random_state=12)\n",
    "# ## Set the parameters by cross-validation\n",
    "# tuned_parameters = [{'alpha': list(range(1,2001,10))}]\n",
    "# GSCV = GridSearchCV(Lag_Lin_Model, tuned_parameters, cv=5,n_jobs=-1)\n",
    "# GSCV.fit(X, y)\n",
    "# GSCV.cv_results_['mean_train_score']\n",
    "# pprint(GSCV.best_params_)\n",
    "\n",
    "# #### Test with plot\n",
    "# # x_4plot = [d['alpha'] for d in GSCV.cv_results_['params']]\n",
    "# # y_4plot = GSCV.cv_results_['mean_test_score']\n",
    "# # plt.plot(x_4plot,y_4plot)\n",
    "# # plt.ylabel('mean_test_score')\n",
    "# # plt.xlabel('Ridge Alpha')"
   ]
  },
  {
   "cell_type": "code",
   "execution_count": 321,
   "metadata": {},
   "outputs": [],
   "source": [
    "# ######### INTERACTIVE WINDOW ##########\n",
    "# def interactJB_Wrapper(b):\n",
    "#     model_params = np.array([JB_params[0],b,JB_params[2]])\n",
    "#     plot_JBmodel(df_G,df_S,model_params)\n",
    "# interact(interactJB_Wrapper, b=(-1,-0.1,.1));"
   ]
  },
  {
   "cell_type": "code",
   "execution_count": 311,
   "metadata": {},
   "outputs": [
    {
     "name": "stdout",
     "output_type": "stream",
     "text": [
      "[0.         1.         0.5        0.33333333 0.25      ]\n",
      "[10.         11.         11.5        11.83333333 12.08333333]\n"
     ]
    }
   ],
   "source": [
    "# Y = np.ones(5)\n",
    "# GK = np.multiply(np.ones(2),6)\n",
    "\n",
    "# # Out = ConvDisc(GK,Y,0)\n",
    "# # print(Out)\n",
    "\n",
    "# Out = JB_Model(Y,1.,-1.,10.,1)\n",
    "# print(Out)\n"
   ]
  },
  {
   "cell_type": "code",
   "execution_count": 322,
   "metadata": {},
   "outputs": [
    {
     "name": "stdout",
     "output_type": "stream",
     "text": [
      "array([ 6.17580785, -1.17788179, 80.54447545])\n"
     ]
    },
    {
     "data": {
      "text/plain": [
       "[<matplotlib.lines.Line2D at 0x1a1d43def0>]"
      ]
     },
     "execution_count": 322,
     "metadata": {},
     "output_type": "execute_result"
    },
    {
     "data": {
      "image/png": "[encoded data removed]",
      "text/plain": [
       "<Figure size 432x288 with 1 Axes>"
      ]
     },
     "metadata": {},
     "output_type": "display_data"
    }
   ],
   "source": []
  },
  {
   "cell_type": "code",
   "execution_count": 300,
   "metadata": {},
   "outputs": [
    {
     "name": "stdout",
     "output_type": "stream",
     "text": [
      "5.411466359064312\n",
      "-1.065054248080244\n",
      "74.11883217038863\n"
     ]
    },
    {
     "data": {
      "text/plain": [
       "[<matplotlib.lines.Line2D at 0x1a19004320>]"
      ]
     },
     "execution_count": 300,
     "metadata": {},
     "output_type": "execute_result"
    },
    {
     "data": {
      "image/png": "[encoded data removed]",
      "text/plain": [
       "<Figure size 432x288 with 1 Axes>"
      ]
     },
     "metadata": {},
     "output_type": "display_data"
    }
   ],
   "source": [
    "# out = JB_Model(input_data, *popt)\n",
    "# plt.plot(out)"
   ]
  },
  {
   "cell_type": "code",
   "execution_count": 54,
   "metadata": {},
   "outputs": [],
   "source": [
    "### Working out how to filter in Pandas\n",
    "# df.filter(items='Title',like='World').head()\n",
    "## contains literal match\n",
    "# df2[df2['MaterialType'] == 'BOOK'].head()\n",
    "# df3 = df2[df2['MaterialType'].isin(['BOOK','EBOOK','AUDIOBOOK'])]\n",
    "# df3.head()\n",
    "## contains match to a string\n",
    "# df2[df2['Title'].str.contains(\"world\", case=False)].head()"
   ]
  },
  {
   "cell_type": "code",
   "execution_count": 53,
   "metadata": {},
   "outputs": [
    {
     "data": {
      "text/html": [
       "<div>\n",
       "<style scoped>\n",
       "    .dataframe tbody tr th:only-of-type {\n",
       "        vertical-align: middle;\n",
       "    }\n",
       "\n",
       "    .dataframe tbody tr th {\n",
       "        vertical-align: top;\n",
       "    }\n",
       "\n",
       "    .dataframe thead th {\n",
       "        text-align: right;\n",
       "    }\n",
       "</style>\n",
       "<table border=\"1\" class=\"dataframe\">\n",
       "  <thead>\n",
       "    <tr style=\"text-align: right;\">\n",
       "      <th></th>\n",
       "      <th>0</th>\n",
       "    </tr>\n",
       "  </thead>\n",
       "  <tbody>\n",
       "    <tr>\n",
       "      <th>0</th>\n",
       "      <td>2015-02-01</td>\n",
       "    </tr>\n",
       "    <tr>\n",
       "      <th>1</th>\n",
       "      <td>2015-03-01</td>\n",
       "    </tr>\n",
       "    <tr>\n",
       "      <th>2</th>\n",
       "      <td>2015-04-01</td>\n",
       "    </tr>\n",
       "    <tr>\n",
       "      <th>3</th>\n",
       "      <td>2015-05-01</td>\n",
       "    </tr>\n",
       "    <tr>\n",
       "      <th>4</th>\n",
       "      <td>2015-06-01</td>\n",
       "    </tr>\n",
       "  </tbody>\n",
       "</table>\n",
       "</div>"
      ],
      "text/plain": [
       "           0\n",
       "0 2015-02-01\n",
       "1 2015-03-01\n",
       "2 2015-04-01\n",
       "3 2015-05-01\n",
       "4 2015-06-01"
      ]
     },
     "execution_count": 53,
     "metadata": {},
     "output_type": "execute_result"
    }
   ],
   "source": [
    "# dfa = pd.DataFrame(df2.YearMon.unique())\n",
    "# dfa.head()"
   ]
  },
  {
   "cell_type": "code",
   "execution_count": 70,
   "metadata": {},
   "outputs": [
    {
     "data": {
      "text/plain": [
       "DatetimeIndex(['2006-10-01', '2006-11-01', '2006-12-01', '2007-01-01',\n",
       "               '2007-02-01', '2007-03-01', '2007-04-01', '2007-05-01',\n",
       "               '2007-06-01', '2007-07-01',\n",
       "               ...\n",
       "               '2016-06-01', '2016-07-01', '2016-08-01', '2016-09-01',\n",
       "               '2016-10-01', '2016-11-01', '2016-12-01', '2017-01-01',\n",
       "               '2017-02-01', '2017-03-01'],\n",
       "              dtype='datetime64[ns]', name='YearMon', length=126, freq=None)"
      ]
     },
     "execution_count": 70,
     "metadata": {},
     "output_type": "execute_result"
    }
   ],
   "source": [
    "###### ML CLASS INITS ######\n",
    "class EstimatorTransformer(base.BaseEstimator, base.TransformerMixin):\n",
    "    \n",
    "    def __init__(self, estimator):\n",
    "        # What needs to be done here?\n",
    "        self.est = estimator\n",
    "    \n",
    "    def fit(self, Xs, ys):\n",
    "        # Fit the stored estimator.\n",
    "        # Question: what should be returned?\n",
    "        self.est.fit(Xs, ys)\n",
    "        return self\n",
    "    \n",
    "    def transform(self, Xs):\n",
    "        # Use predict on the stored estimator as a \"transformation\".\n",
    "        # Be sure to return a 2-D array.\n",
    "        pred_vec = self.est.predict(Xs)\n",
    "#         print(type(pred_vec))\n",
    "        y_preds = np.array(pred_vec).reshape(-1, 1)\n",
    "#         print(type(y_preds))\n",
    "#         print('\\n')\n",
    "        return y_preds"
   ]
  },
  {
   "cell_type": "markdown",
   "metadata": {},
   "source": [
    "### Next Section"
   ]
  },
  {
   "cell_type": "markdown",
   "metadata": {},
   "source": [
    "# Intro\n",
    "This is a working notebook to try and collect my method into a fully python implementation.\n",
    "\n",
    "Current needs are:\n",
    "   * Machine Learning prediction\n",
    "   * Best Fit of an arbitrary input function\n",
    "   * timing and accuracy comparison of the two methods\n",
    "   \n",
    "Good-to-have:\n",
    "* Fully automated selection of book title generating my suite of plots in Search vol, rentals and prediction\n",
    "    \n",
    "Further notes:\n",
    " * Autocorrelation would be interesting eg in VZ_Exploratory_Visualisation\n",
    " '''# autocorrelation is near 1 for short lags\n",
    "autocorrelation_plot(goog_open)\n",
    "matplotlib.pyplot.xlabel('Lag (days)')'''\n",
    "\n",
    "* Need to plot JB kernel more easily"
   ]
  }
 ],
 "metadata": {
  "kernelspec": {
   "display_name": "Python 3",
   "language": "python",
   "name": "python3"
  },
  "language_info": {
   "codemirror_mode": {
    "name": "ipython",
    "version": 3
   },
   "file_extension": ".py",
   "mimetype": "text/x-python",
   "name": "python",
   "nbconvert_exporter": "python",
   "pygments_lexer": "ipython3",
   "version": "3.6.5"
  }
 },
 "nbformat": 4,
 "nbformat_minor": 2
}
